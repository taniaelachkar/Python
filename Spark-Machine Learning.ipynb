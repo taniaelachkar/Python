{
 "cells": [
  {
   "cell_type": "markdown",
   "metadata": {},
   "source": [
    "## Spark Machine Learning"
   ]
  },
  {
   "cell_type": "markdown",
   "metadata": {},
   "source": [
    "Bike sharing is a service provided now by several major cities around the world. Data is regularly and automatically collected on this services by the renting system. Analyzing it can help predict usage levels and effectively provide a ‘map‘ of the city traffic activity and hot spots. The dataset corresponds to  **Washington DC**."
   ]
  },
  {
   "cell_type": "markdown",
   "metadata": {},
   "source": [
    "### Objective:"
   ]
  },
  {
   "cell_type": "markdown",
   "metadata": {},
   "source": [
    "Build a predictive model capable of predicting the total number of bike rentals per hour for a given weekday."
   ]
  },
  {
   "cell_type": "markdown",
   "metadata": {},
   "source": [
    "### Workflow:\n",
    "1. Load Data\n",
    "2. Inspect Data\n",
    "3. Preprocess Data\n",
    "4. Create Model\n",
    "5. Make Predictions\n",
    "6. Evaluate how good are your predictions"
   ]
  },
  {
   "cell_type": "code",
   "execution_count": 59,
   "metadata": {
    "collapsed": true
   },
   "outputs": [],
   "source": [
    "# Initial settings\n",
    "import os\n",
    "my_home=os.environ['HOME']\n",
    "trip_dataset_path=\"/home/vagrant/spark-course/challenge_3/Bike_data/\" # path to trip csv\n",
    "weather_dataset_path=\"/home/vagrant/spark-course/challenge_3/\" # path to weather csv\n",
    "outputs_path=my_home"
   ]
  },
  {
   "cell_type": "code",
   "execution_count": 60,
   "metadata": {},
   "outputs": [
    {
     "name": "stdout",
     "output_type": "stream",
     "text": [
      "/usr/local/software/spark\n"
     ]
    }
   ],
   "source": [
    "print(os.environ['SPARK_HOME'])"
   ]
  },
  {
   "cell_type": "code",
   "execution_count": 61,
   "metadata": {
    "collapsed": true
   },
   "outputs": [],
   "source": [
    "# Importing pyspark\n",
    "import pyspark"
   ]
  },
  {
   "cell_type": "code",
   "execution_count": 62,
   "metadata": {
    "collapsed": true
   },
   "outputs": [],
   "source": [
    "# Create a SparkSession and specify configuration\n",
    "from pyspark.sql import SparkSession\n",
    "\n",
    "spark = SparkSession \\\n",
    "    .builder \\\n",
    "    .master(\"local\") \\\n",
    "    .appName(\"SparkML\") \\\n",
    "    .getOrCreate()"
   ]
  },
  {
   "cell_type": "code",
   "execution_count": 63,
   "metadata": {},
   "outputs": [
    {
     "data": {
      "text/plain": [
       "'2.2.0'"
      ]
     },
     "execution_count": 63,
     "metadata": {},
     "output_type": "execute_result"
    }
   ],
   "source": [
    "# Checking spark version\n",
    "spark.version"
   ]
  },
  {
   "cell_type": "markdown",
   "metadata": {},
   "source": [
    "### Load Data"
   ]
  },
  {
   "cell_type": "code",
   "execution_count": 64,
   "metadata": {
    "collapsed": true
   },
   "outputs": [],
   "source": [
    "# use SparkSession and infer schema with header (messy header names so we change them for predefined ones)\n",
    "# import all trip data csv\n",
    "df_trip = spark.read \\\n",
    "    .option(\"header\", \"true\") \\\n",
    "    .option(\"inferSchema\", \"true\") \\\n",
    "    .csv(\"file:///\"+trip_dataset_path+\"*.csv\")"
   ]
  },
  {
   "cell_type": "code",
   "execution_count": 65,
   "metadata": {
    "collapsed": true
   },
   "outputs": [],
   "source": [
    "# use SparkSession and infer schema with header (messy header names so we change them for predefined ones)\n",
    "# import all weather data csv\n",
    "df_weather = spark.read \\\n",
    "            .option(\"header\", \"false\") \\\n",
    "            .option(\"inferSchema\", \"true\") \\\n",
    "            .csv(\"file:///\"+weather_dataset_path+\"weather_data_daily.csv\")"
   ]
  },
  {
   "cell_type": "code",
   "execution_count": 66,
   "metadata": {},
   "outputs": [
    {
     "name": "stdout",
     "output_type": "stream",
     "text": [
      "root\n",
      " |-- Duration (ms): integer (nullable = true)\n",
      " |-- Start date: timestamp (nullable = true)\n",
      " |-- End date: timestamp (nullable = true)\n",
      " |-- Start station number: string (nullable = true)\n",
      " |-- Start station: string (nullable = true)\n",
      " |-- End station number: string (nullable = true)\n",
      " |-- End station: string (nullable = true)\n",
      " |-- Bike number: string (nullable = true)\n",
      " |-- Member type: string (nullable = true)\n",
      "\n"
     ]
    }
   ],
   "source": [
    "# Check the trip schema \n",
    "df_trip.printSchema()"
   ]
  },
  {
   "cell_type": "code",
   "execution_count": 67,
   "metadata": {},
   "outputs": [
    {
     "name": "stdout",
     "output_type": "stream",
     "text": [
      "root\n",
      " |-- _c0: string (nullable = true)\n",
      " |-- _c1: string (nullable = true)\n",
      " |-- _c2: string (nullable = true)\n",
      " |-- _c3: integer (nullable = true)\n",
      " |-- _c4: integer (nullable = true)\n",
      " |-- _c5: double (nullable = true)\n",
      " |-- _c6: double (nullable = true)\n",
      " |-- _c7: double (nullable = true)\n",
      " |-- _c8: double (nullable = true)\n",
      " |-- _c9: double (nullable = true)\n",
      " |-- _c10: double (nullable = true)\n",
      "\n"
     ]
    }
   ],
   "source": [
    "# Check the weather schema\n",
    "df_weather.printSchema()"
   ]
  },
  {
   "cell_type": "markdown",
   "metadata": {},
   "source": [
    "The column names in df_trip contain blank spaces, so we rename the columns to get rid of that:"
   ]
  },
  {
   "cell_type": "code",
   "execution_count": 68,
   "metadata": {},
   "outputs": [
    {
     "name": "stdout",
     "output_type": "stream",
     "text": [
      "root\n",
      " |-- duration_ms: integer (nullable = true)\n",
      " |-- start_date: timestamp (nullable = true)\n",
      " |-- end_date: timestamp (nullable = true)\n",
      " |-- start_station_nr: string (nullable = true)\n",
      " |-- start_station: string (nullable = true)\n",
      " |-- end_station_nr: string (nullable = true)\n",
      " |-- end_station: string (nullable = true)\n",
      " |-- bike_nr: string (nullable = true)\n",
      " |-- member_type: string (nullable = true)\n",
      "\n"
     ]
    }
   ],
   "source": [
    "# New column names\n",
    "trip_names = ['duration_ms', \n",
    "              'start_date', \n",
    "              'end_date',\n",
    "              'start_station_nr', \n",
    "              'start_station',\n",
    "              'end_station_nr', \n",
    "              'end_station', \n",
    "              'bike_nr', \n",
    "              'member_type'] \n",
    "\n",
    "# Old column names\n",
    "rownames = df_trip.schema.names\n",
    "\n",
    "# Define function for chaning column names\n",
    "def updateColNames(df, oldnames, newnames):\n",
    "    for i in range(len(newnames)):\n",
    "        df=df.withColumnRenamed(oldnames[i], newnames[i])\n",
    "    return df\n",
    "\n",
    "# Run function and redefine df\n",
    "df_trip=updateColNames(df_trip, rownames, trip_names)\n",
    "\n",
    "# Checking again the schema\n",
    "df_trip.printSchema()"
   ]
  },
  {
   "cell_type": "markdown",
   "metadata": {},
   "source": [
    "We assign column names to the weather dataframe"
   ]
  },
  {
   "cell_type": "code",
   "execution_count": 69,
   "metadata": {},
   "outputs": [
    {
     "name": "stdout",
     "output_type": "stream",
     "text": [
      "root\n",
      " |-- location: string (nullable = true)\n",
      " |-- date: string (nullable = true)\n",
      " |-- source: string (nullable = true)\n",
      " |-- max_temp: integer (nullable = true)\n",
      " |-- avg_temp: integer (nullable = true)\n",
      " |-- HDDs: double (nullable = true)\n",
      " |-- CDDs: double (nullable = true)\n",
      " |-- precipitation: double (nullable = true)\n",
      " |-- snowfall: double (nullable = true)\n",
      " |-- snow_depth: double (nullable = true)\n",
      " |-- _c10: double (nullable = true)\n",
      "\n"
     ]
    }
   ],
   "source": [
    "weather_names = ['location', \n",
    "                 'date', \n",
    "                 'source', \n",
    "                 'max_temp', \n",
    "                 'avg_temp', \n",
    "                 'HDDs', \n",
    "                 'CDDs', \n",
    "                 'precipitation', \n",
    "                 'snowfall', \n",
    "                 'snow_depth']\n",
    "\n",
    "# Old column names\n",
    "rownames1 = df_weather.schema.names\n",
    "\n",
    "# Run function and redefine df\n",
    "df_weather=updateColNames(df_weather, rownames1, weather_names)\n",
    "\n",
    "# Checking again the schema\n",
    "df_weather.printSchema()"
   ]
  },
  {
   "cell_type": "markdown",
   "metadata": {},
   "source": [
    "In the data description only 10 columns for the weather dataset are defined. For now let's keep the additional column, later during data exploration we will decide what to do with it."
   ]
  },
  {
   "cell_type": "markdown",
   "metadata": {},
   "source": [
    "### Data Exploration"
   ]
  },
  {
   "cell_type": "code",
   "execution_count": 70,
   "metadata": {
    "scrolled": true
   },
   "outputs": [
    {
     "data": {
      "text/plain": [
       "DataFrame[location: string, date: string, source: string, max_temp: int, avg_temp: int, HDDs: double, CDDs: double, precipitation: double, snowfall: double, snow_depth: double, _c10: double]"
      ]
     },
     "execution_count": 70,
     "metadata": {},
     "output_type": "execute_result"
    }
   ],
   "source": [
    "# Caching the df\n",
    "df_trip.cache()\n",
    "df_weather.cache()"
   ]
  },
  {
   "cell_type": "code",
   "execution_count": 71,
   "metadata": {
    "collapsed": true
   },
   "outputs": [],
   "source": [
    "# Create a temp table for SQL access\n",
    "df_trip.registerTempTable('train_data')\n",
    "df_weather.registerTempTable('weather_data')"
   ]
  },
  {
   "cell_type": "code",
   "execution_count": 72,
   "metadata": {},
   "outputs": [
    {
     "name": "stdout",
     "output_type": "stream",
     "text": [
      "+-------+------------------+--------------------+--------------------+--------------------+-----------+\n",
      "|summary|       duration_ms|       start_station|         end_station|             bike_nr|member_type|\n",
      "+-------+------------------+--------------------+--------------------+--------------------+-----------+\n",
      "|  count|          19120900|            19120900|            19120900|            19120900|   19120900|\n",
      "|   mean|1094822.9341764771|                null|                null|                null|       null|\n",
      "| stddev|2070744.2093020782|                null|                null|                null|       null|\n",
      "|    min|             60001|      10th & E St NW|      10th & E St NW|?(0x0000000008D29...|     Casual|\n",
      "|    max|          86394082|Yuma St & Tenley ...|Yuma St & Tenley ...|              w01117|    Unknown|\n",
      "+-------+------------------+--------------------+--------------------+--------------------+-----------+\n",
      "\n"
     ]
    }
   ],
   "source": [
    "# Summary statistic on some selected variables for trip_df\n",
    "df_trip.select('duration_ms', \n",
    "               'start_station', \n",
    "               'end_station', \n",
    "               'bike_nr', \n",
    "               'member_type') \\\n",
    "               .describe() \\\n",
    "               .show()"
   ]
  },
  {
   "cell_type": "code",
   "execution_count": 73,
   "metadata": {},
   "outputs": [
    {
     "name": "stdout",
     "output_type": "stream",
     "text": [
      "+-------+------------------+-----------------+------------------+\n",
      "|summary|          max_temp|         avg_temp|     precipitation|\n",
      "+-------+------------------+-----------------+------------------+\n",
      "|  count|              2922|             2922|              2922|\n",
      "|   mean| 66.61738535249829| 46.0321697467488|3.6534907597535935|\n",
      "| stddev|18.499389192282433|17.34384505608877|5.7078361780764615|\n",
      "|    min|                15|               -4|               0.0|\n",
      "|    max|               105|               78|              25.5|\n",
      "+-------+------------------+-----------------+------------------+\n",
      "\n"
     ]
    }
   ],
   "source": [
    "# Summary statistic on some selected variables for weather_df\n",
    "df_weather.select('max_temp', \n",
    "                  'avg_temp', \n",
    "                  'precipitation') \\\n",
    "                  .describe() \\\n",
    "                  .show()"
   ]
  },
  {
   "cell_type": "code",
   "execution_count": 74,
   "metadata": {},
   "outputs": [
    {
     "name": "stdout",
     "output_type": "stream",
     "text": [
      "+-------+-------------------+------------------+------------------+\n",
      "|summary|           snowfall|        snow_depth|              _c10|\n",
      "+-------+-------------------+------------------+------------------+\n",
      "|  count|               2922|              2920|              2884|\n",
      "|   mean|0.11165999315537209|0.0742592465753426|0.2584500693481275|\n",
      "| stddev|0.32765845448894304|0.7899262945288358|1.8191148674777877|\n",
      "|    min|                0.0|               0.0|               0.0|\n",
      "|    max|               4.74|              22.1|              28.0|\n",
      "+-------+-------------------+------------------+------------------+\n",
      "\n"
     ]
    }
   ],
   "source": [
    "# Summary statistic on some selected variables for weather_df\n",
    "df_weather.select('snowfall', \n",
    "                  'snow_depth',\n",
    "                  '_c10') \\\n",
    "                  .describe() \\\n",
    "                  .show()"
   ]
  },
  {
   "cell_type": "markdown",
   "metadata": {},
   "source": [
    "### Data Preprocessing"
   ]
  },
  {
   "cell_type": "markdown",
   "metadata": {},
   "source": [
    "The goal of this analysis is to predict the total number of bikes rented per hour on any given day. To reach this goal, we need to transform trip_df into a format that accomodates our goal better.\n",
    "In particular we need to extract the day and hour columns from the original date column. In addition, for our initial analysis, we won't need any other columns from df_trip (e.g. start station, duration, ecc..)."
   ]
  },
  {
   "cell_type": "code",
   "execution_count": 75,
   "metadata": {
    "collapsed": true
   },
   "outputs": [],
   "source": [
    "from pyspark.sql import functions as F"
   ]
  },
  {
   "cell_type": "markdown",
   "metadata": {},
   "source": [
    "#### Creating new columns"
   ]
  },
  {
   "cell_type": "code",
   "execution_count": 76,
   "metadata": {
    "collapsed": true
   },
   "outputs": [],
   "source": [
    "# Let's create the new columns year, month, day and hour that we need for df_trip\n",
    "df_trip = df_trip.withColumn('t_year', F.year('start_date')) # year column\n",
    "df_trip = df_trip.withColumn('t_month', F.month('start_date')) # month column\n",
    "df_trip = df_trip.withColumn('t_day', F.dayofmonth('start_date')) # day column\n",
    "df_trip = df_trip.withColumn('hour', F.hour('start_date')) # hour column\n",
    "df_trip = df_trip.withColumn('weekday', F.date_format('start_date', 'E').alias('dow_string')) # weekday column"
   ]
  },
  {
   "cell_type": "code",
   "execution_count": 77,
   "metadata": {
    "collapsed": true
   },
   "outputs": [],
   "source": [
    "# Let's create the new columns year, month, day and hour that we need for df_weather as well\n",
    "\n",
    "# converting string to timestamp\n",
    "format = \"MM/dd/yyy HH:mm:ss\"\n",
    "df_weather = df_weather.withColumn('Timestamp', F.unix_timestamp('date', format).cast('timestamp'))\n",
    "\n",
    "# creating the new columns\n",
    "df_weather = df_weather.withColumn('w_year', F.year('timestamp')) # year column\n",
    "df_weather = df_weather.withColumn('w_month', F.month('timestamp')) # month column\n",
    "df_weather = df_weather.withColumn('w_day', F.dayofmonth('timestamp')) # day column"
   ]
  },
  {
   "cell_type": "code",
   "execution_count": 78,
   "metadata": {
    "collapsed": true
   },
   "outputs": [],
   "source": [
    "# Updating temp tables (since we added new columns)\n",
    "df_weather.registerTempTable('df_weather')\n",
    "df_trip.registerTempTable('df_trip')"
   ]
  },
  {
   "cell_type": "code",
   "execution_count": 79,
   "metadata": {
    "collapsed": true
   },
   "outputs": [],
   "source": [
    "# Subsetting the data needed for the modelling with SQL queries\n",
    "trip_model = spark.sql('SELECT t_year, t_month, t_day, hour, weekday, COUNT(*) as rides \\\n",
    "                        FROM df_trip \\\n",
    "                        GROUP BY t_year, t_month, t_day, hour, weekday \\\n",
    "                        ORDER BY t_year, t_month, t_day, hour ASC')\n",
    "\n",
    "weather_model = spark.sql('SELECT w_year, w_month, w_day, max_temp, \\\n",
    "                                  avg_temp, snowfall, precipitation, \\\n",
    "                                  snowfall, snow_depth \\\n",
    "                           FROM df_weather')"
   ]
  },
  {
   "cell_type": "code",
   "execution_count": 80,
   "metadata": {},
   "outputs": [
    {
     "name": "stdout",
     "output_type": "stream",
     "text": [
      "+------+-------+-----+----+-------+-----+\n",
      "|t_year|t_month|t_day|hour|weekday|rides|\n",
      "+------+-------+-----+----+-------+-----+\n",
      "|  2010|      9|   20|  11|    Mon|    2|\n",
      "|  2010|      9|   20|  12|    Mon|   17|\n",
      "|  2010|      9|   20|  13|    Mon|   11|\n",
      "|  2010|      9|   20|  14|    Mon|    6|\n",
      "|  2010|      9|   20|  15|    Mon|   12|\n",
      "|  2010|      9|   20|  16|    Mon|   17|\n",
      "|  2010|      9|   20|  17|    Mon|   24|\n",
      "|  2010|      9|   20|  18|    Mon|   39|\n",
      "|  2010|      9|   20|  19|    Mon|   33|\n",
      "|  2010|      9|   20|  20|    Mon|   23|\n",
      "|  2010|      9|   20|  21|    Mon|   18|\n",
      "|  2010|      9|   20|  22|    Mon|    5|\n",
      "|  2010|      9|   20|  23|    Mon|    5|\n",
      "|  2010|      9|   21|   0|    Tue|    2|\n",
      "|  2010|      9|   21|   6|    Tue|    3|\n",
      "|  2010|      9|   21|   7|    Tue|    6|\n",
      "|  2010|      9|   21|   8|    Tue|   25|\n",
      "|  2010|      9|   21|   9|    Tue|   22|\n",
      "|  2010|      9|   21|  10|    Tue|   12|\n",
      "|  2010|      9|   21|  11|    Tue|   16|\n",
      "|  2010|      9|   21|  12|    Tue|   20|\n",
      "|  2010|      9|   21|  13|    Tue|   20|\n",
      "|  2010|      9|   21|  14|    Tue|   17|\n",
      "|  2010|      9|   21|  15|    Tue|   11|\n",
      "+------+-------+-----+----+-------+-----+\n",
      "only showing top 24 rows\n",
      "\n"
     ]
    }
   ],
   "source": [
    "trip_model.show(24)"
   ]
  },
  {
   "cell_type": "code",
   "execution_count": 81,
   "metadata": {},
   "outputs": [
    {
     "name": "stdout",
     "output_type": "stream",
     "text": [
      "+------+-------+-----+--------+--------+--------+-------------+--------+----------+\n",
      "|w_year|w_month|w_day|max_temp|avg_temp|snowfall|precipitation|snowfall|snow_depth|\n",
      "+------+-------+-----+--------+--------+--------+-------------+--------+----------+\n",
      "|  2010|      1|    1|      43|      28|     0.0|          0.0|     0.0|       0.0|\n",
      "|  2010|      1|    2|      28|      18|     0.0|          0.0|     0.0|       0.0|\n",
      "|  2010|      1|    3|      26|      14|     0.0|          0.0|     0.0|       0.0|\n",
      "|  2010|      1|    4|      32|      21|     0.0|          0.0|     0.0|       0.0|\n",
      "|  2010|      1|    5|      35|      27|     0.0|          0.0|     0.0|       0.0|\n",
      "|  2010|      1|    6|      37|      28|  1.0E-4|          0.0|  1.0E-4|     0.001|\n",
      "|  2010|      1|    7|      37|      28|    0.01|          0.0|    0.01|       0.2|\n",
      "|  2010|      1|    8|      32|      22|    0.05|          0.0|    0.05|       1.0|\n",
      "|  2010|      1|    9|      36|      22|     0.0|          0.0|     0.0|       0.0|\n",
      "|  2010|      1|   10|      31|      19|     0.0|          0.0|     0.0|       0.0|\n",
      "+------+-------+-----+--------+--------+--------+-------------+--------+----------+\n",
      "only showing top 10 rows\n",
      "\n"
     ]
    }
   ],
   "source": [
    "weather_model.show(10)"
   ]
  },
  {
   "cell_type": "code",
   "execution_count": 82,
   "metadata": {
    "collapsed": true
   },
   "outputs": [],
   "source": [
    "# Create new temp tables for SQL access\n",
    "trip_model.registerTempTable('trip_model')\n",
    "weather_model.registerTempTable('weather_model')"
   ]
  },
  {
   "cell_type": "code",
   "execution_count": 83,
   "metadata": {
    "collapsed": true
   },
   "outputs": [],
   "source": [
    "# Joining the two tables with SQL query\n",
    "df_join = spark.sql('SELECT * \\\n",
    "                     FROM trip_model \\\n",
    "                     LEFT JOIN weather_model \\\n",
    "                     ON trip_model.t_year = weather_model.w_year \\\n",
    "                     AND trip_model.t_month = weather_model.w_month \\\n",
    "                     AND trip_model.t_day = weather_model.w_day')"
   ]
  },
  {
   "cell_type": "code",
   "execution_count": 84,
   "metadata": {},
   "outputs": [
    {
     "data": {
      "text/plain": [
       "t_year            0\n",
       "t_month           0\n",
       "t_day             0\n",
       "hour              0\n",
       "weekday           0\n",
       "rides             0\n",
       "w_year            0\n",
       "w_month           0\n",
       "w_day             0\n",
       "max_temp          0\n",
       "avg_temp          0\n",
       "snowfall          0\n",
       "precipitation     0\n",
       "snowfall          0\n",
       "snow_depth       48\n",
       "dtype: int64"
      ]
     },
     "execution_count": 84,
     "metadata": {},
     "output_type": "execute_result"
    }
   ],
   "source": [
    "df_join.toPandas().isnull().sum()"
   ]
  },
  {
   "cell_type": "code",
   "execution_count": 85,
   "metadata": {
    "collapsed": true
   },
   "outputs": [],
   "source": [
    "# Dropping Nas\n",
    "df_join = df_join.na.drop()"
   ]
  },
  {
   "cell_type": "code",
   "execution_count": 86,
   "metadata": {},
   "outputs": [
    {
     "data": {
      "text/plain": [
       "t_year           0\n",
       "t_month          0\n",
       "t_day            0\n",
       "hour             0\n",
       "weekday          0\n",
       "rides            0\n",
       "w_year           0\n",
       "w_month          0\n",
       "w_day            0\n",
       "max_temp         0\n",
       "avg_temp         0\n",
       "snowfall         0\n",
       "precipitation    0\n",
       "snowfall         0\n",
       "snow_depth       0\n",
       "dtype: int64"
      ]
     },
     "execution_count": 86,
     "metadata": {},
     "output_type": "execute_result"
    }
   ],
   "source": [
    "df_join.toPandas().isnull().sum()"
   ]
  },
  {
   "cell_type": "code",
   "execution_count": 87,
   "metadata": {
    "collapsed": true
   },
   "outputs": [],
   "source": [
    "# Create new temp table for SQL access\n",
    "df_join.registerTempTable('df_join')"
   ]
  },
  {
   "cell_type": "code",
   "execution_count": 88,
   "metadata": {
    "collapsed": true
   },
   "outputs": [],
   "source": [
    "# Subsetting to keep useful columns\n",
    "df_join = spark.sql('SELECT t_year, t_month, t_day, hour, weekday, \\\n",
    "                            max_temp, avg_temp, snowfall, precipitation, \\\n",
    "                            snowfall, snow_depth, rides \\\n",
    "                     FROM df_join')\n",
    "\n",
    "# Updating temp table\n",
    "df_join.registerTempTable('df_join')"
   ]
  },
  {
   "cell_type": "code",
   "execution_count": 89,
   "metadata": {},
   "outputs": [
    {
     "name": "stdout",
     "output_type": "stream",
     "text": [
      "+------+-------+-----+----+-------+--------+--------+--------+-------------+--------+----------+-----+\n",
      "|t_year|t_month|t_day|hour|weekday|max_temp|avg_temp|snowfall|precipitation|snowfall|snow_depth|rides|\n",
      "+------+-------+-----+----+-------+--------+--------+--------+-------------+--------+----------+-----+\n",
      "|  2010|      9|   20|  11|    Mon|      80|      53|     0.0|          1.5|     0.0|       0.0|    2|\n",
      "|  2010|      9|   20|  12|    Mon|      80|      53|     0.0|          1.5|     0.0|       0.0|   17|\n",
      "|  2010|      9|   20|  13|    Mon|      80|      53|     0.0|          1.5|     0.0|       0.0|   11|\n",
      "|  2010|      9|   20|  14|    Mon|      80|      53|     0.0|          1.5|     0.0|       0.0|    6|\n",
      "|  2010|      9|   20|  15|    Mon|      80|      53|     0.0|          1.5|     0.0|       0.0|   12|\n",
      "|  2010|      9|   20|  16|    Mon|      80|      53|     0.0|          1.5|     0.0|       0.0|   17|\n",
      "|  2010|      9|   20|  17|    Mon|      80|      53|     0.0|          1.5|     0.0|       0.0|   24|\n",
      "|  2010|      9|   20|  18|    Mon|      80|      53|     0.0|          1.5|     0.0|       0.0|   39|\n",
      "|  2010|      9|   20|  19|    Mon|      80|      53|     0.0|          1.5|     0.0|       0.0|   33|\n",
      "|  2010|      9|   20|  20|    Mon|      80|      53|     0.0|          1.5|     0.0|       0.0|   23|\n",
      "|  2010|      9|   20|  21|    Mon|      80|      53|     0.0|          1.5|     0.0|       0.0|   18|\n",
      "|  2010|      9|   20|  22|    Mon|      80|      53|     0.0|          1.5|     0.0|       0.0|    5|\n",
      "|  2010|      9|   20|  23|    Mon|      80|      53|     0.0|          1.5|     0.0|       0.0|    5|\n",
      "|  2010|      9|   21|   0|    Tue|      80|      46|     0.0|          0.0|     0.0|       0.0|    2|\n",
      "|  2010|      9|   21|   6|    Tue|      80|      46|     0.0|          0.0|     0.0|       0.0|    3|\n",
      "|  2010|      9|   21|   7|    Tue|      80|      46|     0.0|          0.0|     0.0|       0.0|    6|\n",
      "|  2010|      9|   21|   8|    Tue|      80|      46|     0.0|          0.0|     0.0|       0.0|   25|\n",
      "|  2010|      9|   21|   9|    Tue|      80|      46|     0.0|          0.0|     0.0|       0.0|   22|\n",
      "|  2010|      9|   21|  10|    Tue|      80|      46|     0.0|          0.0|     0.0|       0.0|   12|\n",
      "|  2010|      9|   21|  11|    Tue|      80|      46|     0.0|          0.0|     0.0|       0.0|   16|\n",
      "|  2010|      9|   21|  12|    Tue|      80|      46|     0.0|          0.0|     0.0|       0.0|   20|\n",
      "|  2010|      9|   21|  13|    Tue|      80|      46|     0.0|          0.0|     0.0|       0.0|   20|\n",
      "|  2010|      9|   21|  14|    Tue|      80|      46|     0.0|          0.0|     0.0|       0.0|   17|\n",
      "|  2010|      9|   21|  15|    Tue|      80|      46|     0.0|          0.0|     0.0|       0.0|   11|\n",
      "+------+-------+-----+----+-------+--------+--------+--------+-------------+--------+----------+-----+\n",
      "only showing top 24 rows\n",
      "\n"
     ]
    }
   ],
   "source": [
    "df_join.show(24)"
   ]
  },
  {
   "cell_type": "markdown",
   "metadata": {},
   "source": [
    "#### Creating dummy variables for weekend and holidays"
   ]
  },
  {
   "cell_type": "code",
   "execution_count": 90,
   "metadata": {
    "collapsed": true
   },
   "outputs": [],
   "source": [
    "# Defining function to spot weekend and holidays\n",
    "weekends_expr = [F.when((F.col(\"weekday\") == 'Sat') | \n",
    "                        (F.col(\"weekday\") == 'Sun') | \n",
    "                        ((F.col(\"t_month\") == 7) & (F.col(\"t_day\") == 4)) | \n",
    "                        ((F.col(\"t_month\") == 12) & (F.col(\"t_day\") == 25)), 1).otherwise(0).alias(\"weekend\")]"
   ]
  },
  {
   "cell_type": "code",
   "execution_count": 91,
   "metadata": {
    "collapsed": true
   },
   "outputs": [],
   "source": [
    "# Applying the weekend function to create a column for weekends and holidays\n",
    "df_join = df_join.select('t_year', 't_month', 't_day', \\\n",
    "                         'hour', 'weekday', 'max_temp', \\\n",
    "                         'avg_temp', 'snowfall', 'precipitation', \\\n",
    "                         'snowfall', 'snow_depth', 'rides', \\\n",
    "                         *weekends_expr)"
   ]
  },
  {
   "cell_type": "code",
   "execution_count": 92,
   "metadata": {
    "collapsed": true
   },
   "outputs": [],
   "source": [
    "# Defining function to spot hot months\n",
    "summer_expr = [F.when((F.col(\"t_month\") >= '4') & \n",
    "                        (F.col(\"t_month\") <= '9'), 1).otherwise(0).alias(\"hot_months\")]"
   ]
  },
  {
   "cell_type": "code",
   "execution_count": 94,
   "metadata": {
    "collapsed": true
   },
   "outputs": [],
   "source": [
    "# Applying the hot months function \n",
    "df_join = df_join.select('t_year', 't_month', 't_day', \\\n",
    "                         'hour', 'weekday', 'max_temp', \\\n",
    "                         'avg_temp', 'snowfall', 'precipitation', \\\n",
    "                         'snowfall', 'snow_depth', 'rides', 'weekend', \\\n",
    "                         *summer_expr)"
   ]
  },
  {
   "cell_type": "markdown",
   "metadata": {},
   "source": [
    "#### One Hot Encoder - weekdays"
   ]
  },
  {
   "cell_type": "code",
   "execution_count": 96,
   "metadata": {
    "collapsed": true,
    "scrolled": true
   },
   "outputs": [],
   "source": [
    "# Getting unique weekdays\n",
    "days = df_join.select(\"weekday\").distinct().rdd.flatMap(lambda x: x).collect()\n",
    "\n",
    "# Creating dummy columns\n",
    "days_expr = [F.when(F.col(\"weekday\") == day, 1).otherwise(0).alias(\"weekday_\" + day) for day in days]\n",
    "\n",
    "# Adding dummy columns to the dataframe\n",
    "df_join = df_join.select('rides', 'hour', 'max_temp', \\\n",
    "                         'avg_temp', 'snowfall', \\\n",
    "                         'precipitation', 'snow_depth', 'weekend', 'hot_months', \\\n",
    "                         *days_expr)"
   ]
  },
  {
   "cell_type": "markdown",
   "metadata": {},
   "source": [
    "### Data Visualization"
   ]
  },
  {
   "cell_type": "code",
   "execution_count": 114,
   "metadata": {
    "collapsed": true
   },
   "outputs": [],
   "source": [
    "import matplotlib.pyplot as plt\n",
    "import seaborn as sns\n",
    "\n",
    "%matplotlib inline"
   ]
  },
  {
   "cell_type": "code",
   "execution_count": 112,
   "metadata": {
    "collapsed": true
   },
   "outputs": [],
   "source": [
    "df_plot = df_join.toPandas()"
   ]
  },
  {
   "cell_type": "code",
   "execution_count": 117,
   "metadata": {
    "scrolled": true
   },
   "outputs": [
    {
     "data": {
      "text/plain": [
       "Text(0.5,1,'Time series of weather conditions')"
      ]
     },
     "execution_count": 117,
     "metadata": {},
     "output_type": "execute_result"
    },
    {
     "data": {
      "image/png": "[encoded data removed]",
      "text/plain": [
       "<matplotlib.figure.Figure at 0x7f3d68fd5908>"
      ]
     },
     "metadata": {},
     "output_type": "display_data"
    }
   ],
   "source": [
    "plt.subplots(figsize=(10, 5))\n",
    "plt.plot(df_plot[['snowfall']])\n",
    "plt.plot(df_plot[['precipitation']])\n",
    "plt.plot(df_plot[['snow_depth']])\n",
    "plt.legend(('snowfall', 'precipitation', 'snow_depth'),\n",
    "           loc='upper right')\n",
    "plt.title('Time series of weather conditions')"
   ]
  },
  {
   "cell_type": "code",
   "execution_count": 125,
   "metadata": {},
   "outputs": [
    {
     "data": {
      "text/plain": [
       "500     86\n",
       "501     58\n",
       "502     52\n",
       "503     47\n",
       "504     16\n",
       "505      5\n",
       "506      1\n",
       "507      4\n",
       "508      1\n",
       "509      1\n",
       "510      1\n",
       "511     17\n",
       "512     34\n",
       "513     29\n",
       "514      4\n",
       "515      9\n",
       "516      3\n",
       "517      2\n",
       "518      1\n",
       "519     10\n",
       "520     18\n",
       "521     35\n",
       "522    106\n",
       "523     96\n",
       "Name: rides, dtype: int64"
      ]
     },
     "execution_count": 125,
     "metadata": {},
     "output_type": "execute_result"
    }
   ],
   "source": [
    "df_plot['rides'][500:524]"
   ]
  },
  {
   "cell_type": "code",
   "execution_count": 118,
   "metadata": {},
   "outputs": [
    {
     "data": {
      "text/plain": [
       "Text(0.5,1,'Time series of temperature conditions')"
      ]
     },
     "execution_count": 118,
     "metadata": {},
     "output_type": "execute_result"
    },
    {
     "data": {
      "image/png": "[encoded data removed]",
      "text/plain": [
       "<matplotlib.figure.Figure at 0x7f3d690fef28>"
      ]
     },
     "metadata": {},
     "output_type": "display_data"
    }
   ],
   "source": [
    "plt.subplots(figsize=(10, 5))\n",
    "plt.plot(df_plot[['max_temp']])\n",
    "plt.plot(df_plot[['avg_temp']])\n",
    "plt.legend(('max_temp', 'avg_temp'),\n",
    "           loc='upper right')\n",
    "plt.title('Time series of temperature conditions')"
   ]
  },
  {
   "cell_type": "code",
   "execution_count": 120,
   "metadata": {
    "scrolled": false
   },
   "outputs": [
    {
     "data": {
      "text/plain": [
       "Text(0.5,1,'Time series of rides vs temperature')"
      ]
     },
     "execution_count": 120,
     "metadata": {},
     "output_type": "execute_result"
    },
    {
     "data": {
      "image/png": "[encoded data removed]",
      "text/plain": [
       "<matplotlib.figure.Figure at 0x7f3d5b2a67f0>"
      ]
     },
     "metadata": {},
     "output_type": "display_data"
    }
   ],
   "source": [
    "plt.subplots(figsize=(10, 5))\n",
    "plt.plot(df_plot[['rides']])\n",
    "plt.plot(df_plot[['avg_temp']])\n",
    "plt.legend(('rides', 'avg_temp'),\n",
    "           loc='upper right')\n",
    "plt.title('Time series of rides vs temperature')"
   ]
  },
  {
   "cell_type": "markdown",
   "metadata": {},
   "source": [
    "### Modelling"
   ]
  },
  {
   "cell_type": "code",
   "execution_count": 97,
   "metadata": {
    "collapsed": true
   },
   "outputs": [],
   "source": [
    "from pyspark.ml.linalg import DenseVector\n",
    "\n",
    "# Fitting the data to a vector proper for the model\n",
    "data = df_join.rdd.map(lambda row: (row[0], DenseVector(row[1:])))"
   ]
  },
  {
   "cell_type": "code",
   "execution_count": 98,
   "metadata": {
    "collapsed": true
   },
   "outputs": [],
   "source": [
    "# Replace df with the new DataFrame\n",
    "df = spark.createDataFrame(data, [\"label\", \"features\"])"
   ]
  },
  {
   "cell_type": "code",
   "execution_count": 99,
   "metadata": {},
   "outputs": [
    {
     "data": {
      "text/plain": [
       "[Row(label=2, features=DenseVector([11.0, 80.0, 53.0, 0.0, 1.5, 0.0, 0.0, 1.0, 0.0, 1.0, 0.0, 0.0, 0.0, 0.0, 0.0]), features_scaled=DenseVector([1.5912, 4.4027, 3.0871, 0.0, 0.269, 0.0, 0.0, 2.0004, 0.0, 2.8619, 0.0, 0.0, 0.0, 0.0, 0.0])),\n",
       " Row(label=17, features=DenseVector([12.0, 80.0, 53.0, 0.0, 1.5, 0.0, 0.0, 1.0, 0.0, 1.0, 0.0, 0.0, 0.0, 0.0, 0.0]), features_scaled=DenseVector([1.7358, 4.4027, 3.0871, 0.0, 0.269, 0.0, 0.0, 2.0004, 0.0, 2.8619, 0.0, 0.0, 0.0, 0.0, 0.0]))]"
      ]
     },
     "execution_count": 99,
     "metadata": {},
     "output_type": "execute_result"
    }
   ],
   "source": [
    "from pyspark.ml.feature import StandardScaler\n",
    "\n",
    "# Defining scaler\n",
    "standardScaler = StandardScaler(inputCol=\"features\", outputCol=\"features_scaled\")\n",
    "\n",
    "# Fit the DataFrame to the scaler\n",
    "scaler = standardScaler.fit(df)\n",
    "\n",
    "# Transform the data in df using the scaler\n",
    "scaled_df = scaler.transform(df)\n",
    "\n",
    "# Inspect the result\n",
    "scaled_df.take(2)"
   ]
  },
  {
   "cell_type": "code",
   "execution_count": 100,
   "metadata": {},
   "outputs": [
    {
     "name": "stdout",
     "output_type": "stream",
     "text": [
      "Training records : 50634\n",
      "Test records : 12558 \n"
     ]
    }
   ],
   "source": [
    "# Split the data into train and test sets\n",
    "train_data, test_data = scaled_df.randomSplit([.8,.2],seed=1234)\n",
    "print('Training records : %d' % train_data.count())\n",
    "print('Test records : %d ' % test_data.count())"
   ]
  },
  {
   "cell_type": "code",
   "execution_count": 101,
   "metadata": {
    "collapsed": true
   },
   "outputs": [],
   "source": [
    "from pyspark.ml.regression import LinearRegression\n",
    "\n",
    "lr = LinearRegression(labelCol=\"label\", maxIter=10, elasticNetParam=0.8)\n",
    "\n",
    "# Fit the data to the models\n",
    "linearModelA = lr.fit(train_data,{lr.regParam:0.1})\n",
    "linearModelB = lr.fit(train_data,{lr.regParam:0.3})\n",
    "linearModelC = lr.fit(train_data,{lr.regParam:0.6})"
   ]
  },
  {
   "cell_type": "code",
   "execution_count": 108,
   "metadata": {},
   "outputs": [
    {
     "data": {
      "text/plain": [
       "DenseVector([15.7717, 5.1202, 0.7372, -102.5663, -7.3912, 4.0278, -12.4108, 52.696, -13.8801, -18.5376, 4.2007, 6.2212, 5.8688, 0.0, 3.6601])"
      ]
     },
     "execution_count": 108,
     "metadata": {},
     "output_type": "execute_result"
    }
   ],
   "source": [
    "linearModelA.coefficients"
   ]
  },
  {
   "cell_type": "code",
   "execution_count": 103,
   "metadata": {
    "collapsed": true
   },
   "outputs": [],
   "source": [
    "# Generate predictions for models\n",
    "predictedA = linearModelA.transform(test_data)\n",
    "predictedB = linearModelB.transform(test_data)\n",
    "predictedC = linearModelC.transform(test_data)"
   ]
  },
  {
   "cell_type": "code",
   "execution_count": 109,
   "metadata": {},
   "outputs": [
    {
     "data": {
      "text/html": [
       "<div>\n",
       "<style>\n",
       "    .dataframe thead tr:only-child th {\n",
       "        text-align: right;\n",
       "    }\n",
       "\n",
       "    .dataframe thead th {\n",
       "        text-align: left;\n",
       "    }\n",
       "\n",
       "    .dataframe tbody tr th {\n",
       "        vertical-align: top;\n",
       "    }\n",
       "</style>\n",
       "<table border=\"1\" class=\"dataframe\">\n",
       "  <thead>\n",
       "    <tr style=\"text-align: right;\">\n",
       "      <th></th>\n",
       "      <th>label</th>\n",
       "      <th>features</th>\n",
       "      <th>features_scaled</th>\n",
       "      <th>prediction</th>\n",
       "    </tr>\n",
       "  </thead>\n",
       "  <tbody>\n",
       "    <tr>\n",
       "      <th>0</th>\n",
       "      <td>1</td>\n",
       "      <td>[0.0, 61.0, 40.0, 0.0001, 0.0, 0.0, 0.0, 0.0, ...</td>\n",
       "      <td>[0.0, 3.35702944413, 2.32988619079, 0.00031814...</td>\n",
       "      <td>105.624205</td>\n",
       "    </tr>\n",
       "    <tr>\n",
       "      <th>1</th>\n",
       "      <td>1</td>\n",
       "      <td>[0.0, 81.0, 62.0, 0.39, 6.5, 0.0, 0.0, 1.0, 0....</td>\n",
       "      <td>[0.0, 4.45769483564, 3.61132359572, 1.24074771...</td>\n",
       "      <td>188.233206</td>\n",
       "    </tr>\n",
       "    <tr>\n",
       "      <th>2</th>\n",
       "      <td>1</td>\n",
       "      <td>[0.0, 94.0, 63.0, 0.0, 13.5, 0.0, 0.0, 1.0, 0....</td>\n",
       "      <td>[0.0, 5.17312734013, 3.66957075049, 0.0, 2.420...</td>\n",
       "      <td>248.168735</td>\n",
       "    </tr>\n",
       "    <tr>\n",
       "      <th>3</th>\n",
       "      <td>1</td>\n",
       "      <td>[4.0, 67.0, 47.0, 0.29, 0.0, 0.0, 1.0, 0.0, 1....</td>\n",
       "      <td>[0.57860068115, 3.68722906158, 2.73761627418, ...</td>\n",
       "      <td>148.067008</td>\n",
       "    </tr>\n",
       "    <tr>\n",
       "      <th>4</th>\n",
       "      <td>2</td>\n",
       "      <td>[0.0, 73.0, 58.0, 0.01, 0.5, 0.0, 0.0, 0.0, 0....</td>\n",
       "      <td>[0.0, 4.01742867904, 3.37833497664, 0.03181404...</td>\n",
       "      <td>177.673223</td>\n",
       "    </tr>\n",
       "    <tr>\n",
       "      <th>5</th>\n",
       "      <td>2</td>\n",
       "      <td>[0.0, 80.0, 46.0, 0.0, 0.0, 0.0, 0.0, 1.0, 0.0...</td>\n",
       "      <td>[0.0, 4.40266156607, 2.67936911941, 0.0, 0.0, ...</td>\n",
       "      <td>258.817017</td>\n",
       "    </tr>\n",
       "    <tr>\n",
       "      <th>6</th>\n",
       "      <td>2</td>\n",
       "      <td>[3.0, 73.0, 58.0, 0.01, 0.5, 0.0, 0.0, 0.0, 0....</td>\n",
       "      <td>[0.433950510863, 4.01742867904, 3.37833497664,...</td>\n",
       "      <td>224.968258</td>\n",
       "    </tr>\n",
       "    <tr>\n",
       "      <th>7</th>\n",
       "      <td>2</td>\n",
       "      <td>[6.0, 73.0, 59.0, 0.05, 1.0, 0.0, 1.0, 1.0, 1....</td>\n",
       "      <td>[0.867901021725, 4.01742867904, 3.43658213141,...</td>\n",
       "      <td>288.514300</td>\n",
       "    </tr>\n",
       "    <tr>\n",
       "      <th>8</th>\n",
       "      <td>3</td>\n",
       "      <td>[0.0, 66.0, 52.0, 0.3, 0.0, 0.0, 0.0, 1.0, 0.0...</td>\n",
       "      <td>[0.0, 3.63219579201, 3.02885204802, 0.95442131...</td>\n",
       "      <td>166.890285</td>\n",
       "    </tr>\n",
       "    <tr>\n",
       "      <th>9</th>\n",
       "      <td>3</td>\n",
       "      <td>[6.0, 73.0, 58.0, 0.01, 0.5, 0.0, 0.0, 0.0, 0....</td>\n",
       "      <td>[0.867901021725, 4.01742867904, 3.37833497664,...</td>\n",
       "      <td>272.263293</td>\n",
       "    </tr>\n",
       "  </tbody>\n",
       "</table>\n",
       "</div>"
      ],
      "text/plain": [
       "   label                                           features  \\\n",
       "0      1  [0.0, 61.0, 40.0, 0.0001, 0.0, 0.0, 0.0, 0.0, ...   \n",
       "1      1  [0.0, 81.0, 62.0, 0.39, 6.5, 0.0, 0.0, 1.0, 0....   \n",
       "2      1  [0.0, 94.0, 63.0, 0.0, 13.5, 0.0, 0.0, 1.0, 0....   \n",
       "3      1  [4.0, 67.0, 47.0, 0.29, 0.0, 0.0, 1.0, 0.0, 1....   \n",
       "4      2  [0.0, 73.0, 58.0, 0.01, 0.5, 0.0, 0.0, 0.0, 0....   \n",
       "5      2  [0.0, 80.0, 46.0, 0.0, 0.0, 0.0, 0.0, 1.0, 0.0...   \n",
       "6      2  [3.0, 73.0, 58.0, 0.01, 0.5, 0.0, 0.0, 0.0, 0....   \n",
       "7      2  [6.0, 73.0, 59.0, 0.05, 1.0, 0.0, 1.0, 1.0, 1....   \n",
       "8      3  [0.0, 66.0, 52.0, 0.3, 0.0, 0.0, 0.0, 1.0, 0.0...   \n",
       "9      3  [6.0, 73.0, 58.0, 0.01, 0.5, 0.0, 0.0, 0.0, 0....   \n",
       "\n",
       "                                     features_scaled  prediction  \n",
       "0  [0.0, 3.35702944413, 2.32988619079, 0.00031814...  105.624205  \n",
       "1  [0.0, 4.45769483564, 3.61132359572, 1.24074771...  188.233206  \n",
       "2  [0.0, 5.17312734013, 3.66957075049, 0.0, 2.420...  248.168735  \n",
       "3  [0.57860068115, 3.68722906158, 2.73761627418, ...  148.067008  \n",
       "4  [0.0, 4.01742867904, 3.37833497664, 0.03181404...  177.673223  \n",
       "5  [0.0, 4.40266156607, 2.67936911941, 0.0, 0.0, ...  258.817017  \n",
       "6  [0.433950510863, 4.01742867904, 3.37833497664,...  224.968258  \n",
       "7  [0.867901021725, 4.01742867904, 3.43658213141,...  288.514300  \n",
       "8  [0.0, 3.63219579201, 3.02885204802, 0.95442131...  166.890285  \n",
       "9  [0.867901021725, 4.01742867904, 3.37833497664,...  272.263293  "
      ]
     },
     "execution_count": 109,
     "metadata": {},
     "output_type": "execute_result"
    }
   ],
   "source": [
    "predictedB.toPandas().head(10)"
   ]
  },
  {
   "cell_type": "code",
   "execution_count": 106,
   "metadata": {},
   "outputs": [
    {
     "name": "stdout",
     "output_type": "stream",
     "text": [
      "RMSE for model A is: 283.336467\n",
      "RMSE for model B is: 283.337654\n",
      "RMSE for model C is: 283.377497\n"
     ]
    }
   ],
   "source": [
    "# Get the RMSE \n",
    "print('RMSE for model A is: %f' % linearModelA.summary.rootMeanSquaredError)\n",
    "print('RMSE for model B is: %f' % linearModelB.summary.rootMeanSquaredError)\n",
    "print('RMSE for model C is: %f' % linearModelC.summary.rootMeanSquaredError)"
   ]
  },
  {
   "cell_type": "code",
   "execution_count": 107,
   "metadata": {
    "scrolled": true
   },
   "outputs": [
    {
     "name": "stdout",
     "output_type": "stream",
     "text": [
      "R squared for model A is: 0.217682\n",
      "R squared for model B is: 0.217676\n",
      "R squared for model C is: 0.217456\n"
     ]
    }
   ],
   "source": [
    "# Get the R2\n",
    "print('R squared for model A is: %f' % linearModelA.summary.r2)\n",
    "print('R squared for model B is: %f' % linearModelB.summary.r2)\n",
    "print('R squared for model C is: %f' % linearModelC.summary.r2)"
   ]
  }
 ],
 "metadata": {
  "kernelspec": {
   "display_name": "Python 3",
   "language": "python",
   "name": "python3"
  },
  "language_info": {
   "codemirror_mode": {
    "name": "ipython",
    "version": 3
   },
   "file_extension": ".py",
   "mimetype": "text/x-python",
   "name": "python",
   "nbconvert_exporter": "python",
   "pygments_lexer": "ipython3",
   "version": "3.6.3"
  }
 },
 "nbformat": 4,
 "nbformat_minor": 2
}
