{
 "cells": [
  {
   "cell_type": "markdown",
   "metadata": {},
   "source": [
    "## SparkSQL"
   ]
  },
  {
   "cell_type": "code",
   "execution_count": 1,
   "metadata": {},
   "outputs": [
    {
     "name": "stdout",
     "output_type": "stream",
     "text": [
      "/usr/hdp/current/spark2-client\n"
     ]
    }
   ],
   "source": [
    "# Define the SPARK_HOME variable\n",
    "import os\n",
    "print(os.environ['SPARK_HOME'])"
   ]
  },
  {
   "cell_type": "code",
   "execution_count": 2,
   "metadata": {
    "collapsed": true
   },
   "outputs": [],
   "source": [
    "# Use findspark to run Spark in the cluster\n",
    "import findspark\n",
    "findspark.init()\n",
    "import pyspark"
   ]
  },
  {
   "cell_type": "code",
   "execution_count": 3,
   "metadata": {
    "collapsed": true
   },
   "outputs": [],
   "source": [
    "dataset_path=\"/data/shared/spark/flight_data/csv_tiny/\""
   ]
  },
  {
   "cell_type": "code",
   "execution_count": 4,
   "metadata": {
    "collapsed": true
   },
   "outputs": [],
   "source": [
    "# Create a SparkSession and specify the configuration\n",
    "from pyspark.sql import SparkSession\n",
    "spark = SparkSession.builder \\\n",
    "        .master(\"local[1]\") \\\n",
    "        .appName(\"Spark-SQL\") \\\n",
    "        .getOrCreate()"
   ]
  },
  {
   "cell_type": "markdown",
   "metadata": {},
   "source": [
    "Create a dataframe by loading the input csv dataset"
   ]
  },
  {
   "cell_type": "code",
   "execution_count": 5,
   "metadata": {
    "collapsed": true
   },
   "outputs": [],
   "source": [
    "df = spark.read \\\n",
    "    .option(\"header\", \"true\") \\\n",
    "    .option(\"inferSchema\", \"true\") \\\n",
    "    .csv(\"file://\"+dataset_path+\"*.csv\")"
   ]
  },
  {
   "cell_type": "markdown",
   "metadata": {},
   "source": [
    "Get the names of the columns and the number of rows in the dataset"
   ]
  },
  {
   "cell_type": "code",
   "execution_count": 6,
   "metadata": {},
   "outputs": [
    {
     "data": {
      "text/plain": [
       "['Year',\n",
       " 'Quarter',\n",
       " 'Month',\n",
       " 'DayofMonth',\n",
       " 'DayOfWeek',\n",
       " 'FlightDate',\n",
       " 'UniqueCarrier',\n",
       " 'AirlineID',\n",
       " 'Carrier',\n",
       " 'TailNum',\n",
       " 'FlightNum',\n",
       " 'OriginAirportID',\n",
       " 'OriginAirportSeqID',\n",
       " 'OriginCityMarketID',\n",
       " 'Origin',\n",
       " 'OriginCityName',\n",
       " 'OriginState',\n",
       " 'OriginStateFips',\n",
       " 'OriginStateName',\n",
       " 'OriginWac',\n",
       " 'DestAirportID',\n",
       " 'DestAirportSeqID',\n",
       " 'DestCityMarketID',\n",
       " 'Dest',\n",
       " 'DestCityName',\n",
       " 'DestState',\n",
       " 'DestStateFips',\n",
       " 'DestStateName',\n",
       " 'DestWac',\n",
       " 'CRSDepTime',\n",
       " 'DepTime',\n",
       " 'DepDelay',\n",
       " 'DepDelayMinutes',\n",
       " 'DepDel15',\n",
       " 'DepartureDelayGroups',\n",
       " 'DepTimeBlk',\n",
       " 'TaxiOut',\n",
       " 'WheelsOff',\n",
       " 'WheelsOn',\n",
       " 'TaxiIn',\n",
       " 'CRSArrTime',\n",
       " 'ArrTime',\n",
       " 'ArrDelay',\n",
       " 'ArrDelayMinutes',\n",
       " 'ArrDel15',\n",
       " 'ArrivalDelayGroups',\n",
       " 'ArrTimeBlk',\n",
       " 'Cancelled',\n",
       " 'CancellationCode',\n",
       " 'Diverted',\n",
       " 'CRSElapsedTime',\n",
       " 'ActualElapsedTime',\n",
       " 'AirTime',\n",
       " 'Flights',\n",
       " 'Distance',\n",
       " 'DistanceGroup',\n",
       " 'CarrierDelay',\n",
       " 'WeatherDelay',\n",
       " 'NASDelay',\n",
       " 'SecurityDelay',\n",
       " 'LateAircraftDelay',\n",
       " 'FirstDepTime',\n",
       " 'TotalAddGTime',\n",
       " 'LongestAddGTime',\n",
       " 'DivAirportLandings',\n",
       " 'DivReachedDest',\n",
       " 'DivActualElapsedTime',\n",
       " 'DivArrDelay',\n",
       " 'DivDistance',\n",
       " 'Div1Airport',\n",
       " 'Div1AirportID',\n",
       " 'Div1AirportSeqID',\n",
       " 'Div1WheelsOn',\n",
       " 'Div1TotalGTime',\n",
       " 'Div1LongestGTime',\n",
       " 'Div1WheelsOff',\n",
       " 'Div1TailNum',\n",
       " 'Div2Airport',\n",
       " 'Div2AirportID',\n",
       " 'Div2AirportSeqID',\n",
       " 'Div2WheelsOn',\n",
       " 'Div2TotalGTime',\n",
       " 'Div2LongestGTime',\n",
       " 'Div2WheelsOff',\n",
       " 'Div2TailNum',\n",
       " 'Div3Airport',\n",
       " 'Div3AirportID',\n",
       " 'Div3AirportSeqID',\n",
       " 'Div3WheelsOn',\n",
       " 'Div3TotalGTime',\n",
       " 'Div3LongestGTime',\n",
       " 'Div3WheelsOff',\n",
       " 'Div3TailNum',\n",
       " 'Div4Airport',\n",
       " 'Div4AirportID',\n",
       " 'Div4AirportSeqID',\n",
       " 'Div4WheelsOn',\n",
       " 'Div4TotalGTime',\n",
       " 'Div4LongestGTime',\n",
       " 'Div4WheelsOff',\n",
       " 'Div4TailNum',\n",
       " 'Div5Airport',\n",
       " 'Div5AirportID',\n",
       " 'Div5AirportSeqID',\n",
       " 'Div5WheelsOn',\n",
       " 'Div5TotalGTime',\n",
       " 'Div5LongestGTime',\n",
       " 'Div5WheelsOff',\n",
       " 'Div5TailNum',\n",
       " '_c109']"
      ]
     },
     "execution_count": 6,
     "metadata": {},
     "output_type": "execute_result"
    }
   ],
   "source": [
    "# Get the names of the columns in the dataset\n",
    "col_names = df.columns\n",
    "col_names"
   ]
  },
  {
   "cell_type": "code",
   "execution_count": 7,
   "metadata": {},
   "outputs": [
    {
     "data": {
      "text/plain": [
       "469489"
      ]
     },
     "execution_count": 7,
     "metadata": {},
     "output_type": "execute_result"
    }
   ],
   "source": [
    "# Get the number of rows in the dataset\n",
    "numb_row = df.count()\n",
    "numb_row"
   ]
  },
  {
   "cell_type": "markdown",
   "metadata": {},
   "source": [
    "Create an in-memory dataframe and a permanently-stored table from this dataframe"
   ]
  },
  {
   "cell_type": "code",
   "execution_count": 8,
   "metadata": {
    "collapsed": true
   },
   "outputs": [],
   "source": [
    "# Create an in-memory dataframe \n",
    "df.registerTempTable(\"flights\")"
   ]
  },
  {
   "cell_type": "code",
   "execution_count": 10,
   "metadata": {
    "collapsed": true
   },
   "outputs": [],
   "source": [
    "# Create a permanently-stored table from this dataframe\n",
    "df.write.saveAsTable(\"flights_perm\")"
   ]
  },
  {
   "cell_type": "markdown",
   "metadata": {},
   "source": [
    "Get the top 10 airports with the greatest number of departures in the dataset"
   ]
  },
  {
   "cell_type": "code",
   "execution_count": 11,
   "metadata": {},
   "outputs": [
    {
     "name": "stdout",
     "output_type": "stream",
     "text": [
      "+------+-----+\n",
      "|origin|count|\n",
      "+------+-----+\n",
      "|   ATL|30196|\n",
      "|   ORD|24870|\n",
      "|   DFW|23025|\n",
      "|   DEN|18935|\n",
      "|   LAX|17589|\n",
      "|   SFO|13878|\n",
      "|   IAH|13496|\n",
      "|   PHX|12126|\n",
      "|   LAS|11231|\n",
      "|   SEA| 9316|\n",
      "+------+-----+\n",
      "\n"
     ]
    }
   ],
   "source": [
    "# Using the dataframe API\n",
    "dep_count = df.select(\"origin\").groupBy(\"origin\").count().orderBy(\"count\",ascending=False).limit(10).show()"
   ]
  },
  {
   "cell_type": "code",
   "execution_count": 12,
   "metadata": {},
   "outputs": [
    {
     "name": "stdout",
     "output_type": "stream",
     "text": [
      "+------+--------+\n",
      "|origin|numb_dep|\n",
      "+------+--------+\n",
      "|   ATL|   30196|\n",
      "|   ORD|   24870|\n",
      "|   DFW|   23025|\n",
      "|   DEN|   18935|\n",
      "|   LAX|   17589|\n",
      "|   SFO|   13878|\n",
      "|   IAH|   13496|\n",
      "|   PHX|   12126|\n",
      "|   LAS|   11231|\n",
      "|   SEA|    9316|\n",
      "+------+--------+\n",
      "\n"
     ]
    }
   ],
   "source": [
    "# Using a direct SQL query\n",
    "query = \"SELECT origin,count(origin) AS numb_dep FROM flights GROUP BY origin ORDER BY count(origin) DESC LIMIT 10\"\n",
    "df_numb_dep = spark.sql(query)\n",
    "df_numb_dep.show()"
   ]
  },
  {
   "cell_type": "markdown",
   "metadata": {},
   "source": [
    "Save a subset dataframe that only contains carrier, airport, and departure delays, partitioning the output by carrier and airport into parquet format"
   ]
  },
  {
   "cell_type": "code",
   "execution_count": 22,
   "metadata": {},
   "outputs": [
    {
     "name": "stdout",
     "output_type": "stream",
     "text": [
      "+-------+------+--------+\n",
      "|carrier|origin|depdelay|\n",
      "+-------+------+--------+\n",
      "|     AA|   JFK|    -9.0|\n",
      "|     AA|   JFK|     2.0|\n",
      "|     AA|   JFK|   -11.0|\n",
      "|     AA|   JFK|    -8.0|\n",
      "|     AA|   JFK|    -7.0|\n",
      "|     AA|   JFK|    -4.0|\n",
      "|     AA|   JFK|    -4.0|\n",
      "|     AA|   JFK|    -4.0|\n",
      "|     AA|   JFK|    -2.0|\n",
      "|     AA|   JFK|    -2.0|\n",
      "|     AA|   JFK|    -9.0|\n",
      "|     AA|   JFK|   -12.0|\n",
      "|     AA|   JFK|    -1.0|\n",
      "|     AA|   JFK|    -6.0|\n",
      "|     AA|   JFK|    -7.0|\n",
      "|     AA|   JFK|    -9.0|\n",
      "|     AA|   JFK|    -6.0|\n",
      "|     AA|   JFK|    -5.0|\n",
      "|     AA|   JFK|    -5.0|\n",
      "|     AA|   JFK|    -8.0|\n",
      "+-------+------+--------+\n",
      "only showing top 20 rows\n",
      "\n"
     ]
    }
   ],
   "source": [
    "# Create a subset dataframe that only contains carrier, airport (origin), and departure delays (depdelay)\n",
    "df_subset = spark.sql(\"SELECT carrier,origin,depdelay FROM flights\")\n",
    "df_subset.show()"
   ]
  },
  {
   "cell_type": "code",
   "execution_count": 14,
   "metadata": {
    "collapsed": true
   },
   "outputs": [],
   "source": [
    "# Partition the output by carrier and airport (origin) into parquet format\n",
    "my_home = os.environ['HOME']\n",
    "out_dir = \"flight_data\"\n",
    "df_subset.write.partitionBy(\"carrier\",\"origin\").parquet(\n",
    "        \"file://\"\n",
    "        +my_home\n",
    "        +'/'\n",
    "        +out_dir,\n",
    "        mode = 'overwrite')"
   ]
  },
  {
   "cell_type": "markdown",
   "metadata": {},
   "source": [
    "Which flight had the longest delay?"
   ]
  },
  {
   "cell_type": "code",
   "execution_count": 15,
   "metadata": {
    "scrolled": true
   },
   "outputs": [
    {
     "name": "stdout",
     "output_type": "stream",
     "text": [
      "+-------------+---------------+\n",
      "|flight_number|departure_delay|\n",
      "+-------------+---------------+\n",
      "|          290|         1727.0|\n",
      "+-------------+---------------+\n",
      "\n"
     ]
    }
   ],
   "source": [
    "max_delay = \"SELECT flightnum AS flight_number,depdelay AS departure_delay FROM flights where depdelay=(SELECT max(depdelay) FROM flights)\"\n",
    "df_max_delay = spark.sql(max_delay)\n",
    "df_max_delay.show()"
   ]
  },
  {
   "cell_type": "markdown",
   "metadata": {},
   "source": [
    "Get the top 5 carriers in terms of the smallest average departure delay in all airports. We consider that a flight is delayed when depdelay > 0 min"
   ]
  },
  {
   "cell_type": "code",
   "execution_count": 18,
   "metadata": {},
   "outputs": [
    {
     "name": "stdout",
     "output_type": "stream",
     "text": [
      "+-------+---------+\n",
      "|carrier|avg_delay|\n",
      "+-------+---------+\n",
      "|     FL|     22.2|\n",
      "|     WN|    24.82|\n",
      "|     DL|    25.08|\n",
      "|     US|    26.36|\n",
      "|     AS|    26.53|\n",
      "+-------+---------+\n",
      "\n"
     ]
    }
   ],
   "source": [
    "avg_delay = \"SELECT carrier,ROUND(avg(depdelay),2) AS avg_delay FROM flights WHERE depdelay>0 GROUP BY carrier ORDER BY avg_delay ASC LIMIT 5\"\n",
    "df_avg_delay = spark.sql(avg_delay)\n",
    "df_avg_delay.show()"
   ]
  },
  {
   "cell_type": "markdown",
   "metadata": {},
   "source": [
    "Which destinations are most likely to get delayed when the origin of the flight is JFK airport?"
   ]
  },
  {
   "cell_type": "code",
   "execution_count": 19,
   "metadata": {},
   "outputs": [
    {
     "name": "stdout",
     "output_type": "stream",
     "text": [
      "+------+----+-------------+\n",
      "|origin|dest|avg_dep_delay|\n",
      "+------+----+-------------+\n",
      "|   JFK| DTW|        26.73|\n",
      "|   JFK| IND|        22.17|\n",
      "|   JFK| PIT|         12.0|\n",
      "|   JFK| IAD|        11.62|\n",
      "|   JFK| ORD|        11.61|\n",
      "+------+----+-------------+\n",
      "\n"
     ]
    }
   ],
   "source": [
    "# Get the top 5 destinations with the highest average departue delays experienced on flights from JFK\n",
    "dep_delay = \"SELECT origin,dest,ROUND(avg(depdelay),2) AS avg_dep_delay FROM flights WHERE origin='JFK' GROUP BY origin,dest ORDER BY avg_dep_delay DESC LIMIT 5\"\n",
    "df_dep_delay = spark.sql(dep_delay)\n",
    "df_dep_delay.show()"
   ]
  }
 ],
 "metadata": {
  "kernelspec": {
   "display_name": "Python 3",
   "language": "python",
   "name": "python3"
  },
  "language_info": {
   "codemirror_mode": {
    "name": "ipython",
    "version": 3
   },
   "file_extension": ".py",
   "mimetype": "text/x-python",
   "name": "python",
   "nbconvert_exporter": "python",
   "pygments_lexer": "ipython3",
   "version": "3.6.3"
  }
 },
 "nbformat": 4,
 "nbformat_minor": 2
}
